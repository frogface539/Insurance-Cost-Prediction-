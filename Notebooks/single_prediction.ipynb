{
 "cells": [
  {
   "cell_type": "code",
   "execution_count": 20,
   "id": "49a24eeb",
   "metadata": {},
   "outputs": [],
   "source": [
    "import numpy as np\n",
    "import pickle\n",
    "from tensorflow.keras.models import load_model\n",
    "import pandas as pd "
   ]
  },
  {
   "cell_type": "code",
   "execution_count": 21,
   "id": "8d204702",
   "metadata": {},
   "outputs": [
    {
     "name": "stderr",
     "output_type": "stream",
     "text": [
      "WARNING:absl:Compiled the loaded model, but the compiled metrics have yet to be built. `model.compile_metrics` will be empty until you train or evaluate the model.\n"
     ]
    }
   ],
   "source": [
    "model = load_model(\"../model/insurance_ann_model.h5\")\n",
    "\n",
    "with open(\"../model/scaler.pkl\", \"rb\") as f:\n",
    "    scaler = pickle.load(f)"
   ]
  },
  {
   "cell_type": "code",
   "execution_count": 22,
   "id": "5ec45a24",
   "metadata": {},
   "outputs": [],
   "source": [
    "columns = ['age', 'sex', 'bmi', 'children', 'smoker',\n",
    "           'region_northwest', 'region_southeast', 'region_southwest']\n",
    "\n",
    "sample = {\n",
    "    'age': 45,\n",
    "    'sex': 1,\n",
    "    'bmi': 28.0,\n",
    "    'children': 2,\n",
    "    'smoker': 1,\n",
    "    'region_northwest': 0,\n",
    "    'region_southeast': 1,\n",
    "    'region_southwest': 0\n",
    "}\n",
    "\n",
    "final_columns = ['age', 'sex', 'bmi', 'children', 'smoker',\n",
    "                 'region_northwest', 'region_southeast', 'region_southwest']\n",
    "df = pd.DataFrame([sample], columns=final_columns)\n",
    "\n"
   ]
  },
  {
   "cell_type": "code",
   "execution_count": 23,
   "id": "37a786d8",
   "metadata": {},
   "outputs": [],
   "source": [
    "df = pd.DataFrame([sample], columns=columns)\n",
    "X = np.array([list(sample.values())])"
   ]
  },
  {
   "cell_type": "code",
   "execution_count": 24,
   "id": "05a096c5",
   "metadata": {},
   "outputs": [
    {
     "name": "stdout",
     "output_type": "stream",
     "text": [
      "Raw input:\n",
      "    age  sex   bmi  children  smoker  region_northwest  region_southeast  \\\n",
      "0   45    1  28.0         2       1                 0                 1   \n",
      "\n",
      "   region_southwest  \n",
      "0                 0  \n",
      "Scaled input:\n",
      " [[ 0.41246669  0.98959079 -0.43691555  0.75107928  1.97058663 -0.56641788\n",
      "   1.63579466 -0.56641788]]\n"
     ]
    },
    {
     "name": "stderr",
     "output_type": "stream",
     "text": [
      "c:\\Users\\LAKSHAY JAIN\\Downloads\\CODING\\DATA SCIENCE\\PROJECTS\\Insurance Cost Prediction\\venv\\Lib\\site-packages\\sklearn\\utils\\validation.py:2749: UserWarning: X does not have valid feature names, but StandardScaler was fitted with feature names\n",
      "  warnings.warn(\n"
     ]
    }
   ],
   "source": [
    "X_scaled = scaler.transform(X)\n",
    "print(\"Raw input:\\n\", df)\n",
    "print(\"Scaled input:\\n\", X_scaled)"
   ]
  },
  {
   "cell_type": "code",
   "execution_count": 25,
   "id": "f0f6be9f",
   "metadata": {},
   "outputs": [
    {
     "name": "stdout",
     "output_type": "stream",
     "text": [
      "\u001b[1m1/1\u001b[0m \u001b[32m━━━━━━━━━━━━━━━━━━━━\u001b[0m\u001b[37m\u001b[0m \u001b[1m0s\u001b[0m 46ms/step\n",
      "Predicted Insurance Charges: ₹32352.22\n"
     ]
    }
   ],
   "source": [
    "predicted_cost = model.predict(X_scaled)[0][0]\n",
    "predicted_cost = max(0, predicted_cost)  # Ensure non-negative\n",
    "print(f\"Predicted Insurance Charges: ₹{predicted_cost:.2f}\")"
   ]
  },
  {
   "cell_type": "code",
   "execution_count": null,
   "id": "1041e8fc",
   "metadata": {},
   "outputs": [],
   "source": []
  },
  {
   "cell_type": "code",
   "execution_count": null,
   "id": "fdccee79",
   "metadata": {},
   "outputs": [],
   "source": []
  }
 ],
 "metadata": {
  "kernelspec": {
   "display_name": "venv",
   "language": "python",
   "name": "python3"
  },
  "language_info": {
   "codemirror_mode": {
    "name": "ipython",
    "version": 3
   },
   "file_extension": ".py",
   "mimetype": "text/x-python",
   "name": "python",
   "nbconvert_exporter": "python",
   "pygments_lexer": "ipython3",
   "version": "3.12.2"
  }
 },
 "nbformat": 4,
 "nbformat_minor": 5
}
